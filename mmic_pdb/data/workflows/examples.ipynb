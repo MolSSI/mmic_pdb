{
 "cells": [
  {
   "cell_type": "markdown",
   "id": "8f836fcd",
   "metadata": {},
   "source": [
    "# Notes\n",
    "Compute takes ~ 1 min on mybinder, can take much longer for big systems.\n",
    "For faster execution, run this notebook locally"
   ]
  },
  {
   "cell_type": "markdown",
   "id": "4faf3fc8",
   "metadata": {},
   "source": [
    "# Example1: Fetching PDB from RCSB"
   ]
  },
  {
   "cell_type": "code",
   "execution_count": 16,
   "id": "20ad2343",
   "metadata": {},
   "outputs": [
    {
     "data": {
      "text/plain": [
       "Molecule(name='C87CA87CB83CD27CD113CD213CE7CE18CE28CE32CG46CG17CG214CH22CZ10CZ22CZ32H77H22H32HA83HA24HA34HB14HB15HB269HB369HD110HD115HD125HD135HD228HD215HD225HD233HD320HE4HE111HE215HE21HE22HE39HG11HG17HG115HG127HG137HG228HG2114HG2214HG2314HG328HH5HH114HH124HH22HH214HH224HZHZ16HZ28HZ38N87ND12ND22NE4NE12NE23NH14NH24NZ6O87OD15OD23OE17OE26OG8OG17OH5OXT2SDSG10', hash='105f17a')"
      ]
     },
     "execution_count": 16,
     "metadata": {},
     "output_type": "execute_result"
    }
   ],
   "source": [
    "import mmic_pdb\n",
    "\n",
    "# Create input data dict\n",
    "inp = {\n",
    "    \"pdbid\": \"1HAA\",\n",
    "}\n",
    "\n",
    "# Run compute\n",
    "outp = mmic_pdb.components.PdbFixerComponent.compute(inp)\n",
    "mol = outp.molecule\n",
    "\n",
    "mol"
   ]
  },
  {
   "cell_type": "markdown",
   "id": "63fa44e7",
   "metadata": {},
   "source": [
    "# Example2: Removing heterogens"
   ]
  },
  {
   "cell_type": "code",
   "execution_count": 15,
   "id": "01146dd0",
   "metadata": {},
   "outputs": [
    {
     "data": {
      "text/plain": [
       "Molecule(name='C87CA87CB83CD27CD113CD213CE7CE18CE28CE32CG46CG17CG214CH22CZ10CZ22CZ32H77H22H32HA83HA24HA34HB14HB15HB269HB369HD110HD115HD125HD135HD228HD215HD225HD233HD320HE4HE111HE215HE21HE22HE39HG11HG17HG115HG127HG137HG228HG2114HG2214HG2314HG328HH5HH114HH124HH22HH214HH224HZHZ16HZ28HZ38N87ND12ND22NE4NE12NE23NH14NH24NZ6O87OD15OD23OE17OE26OG8OG17OH5OXT2SDSG10', hash='384f284')"
      ]
     },
     "execution_count": 15,
     "metadata": {},
     "output_type": "execute_result"
    }
   ],
   "source": [
    "# Create input data dict\n",
    "inp = {\n",
    "    \"pdbid\": \"1HAA\",\n",
    "    \"keep_hetero\": \"none\"\n",
    "}\n",
    "\n",
    "# Run compute\n",
    "outp = mmic_pdb.components.PdbFixerComponent.compute(inp)\n",
    "pro = outp.molecule\n",
    "\n",
    "pro"
   ]
  },
  {
   "cell_type": "markdown",
   "id": "2fe8e56c",
   "metadata": {},
   "source": [
    "# Example3: Adding missing atoms & removing heterogens"
   ]
  },
  {
   "cell_type": "code",
   "execution_count": 18,
   "id": "3b158e5d",
   "metadata": {},
   "outputs": [
    {
     "data": {
      "text/plain": [
       "Molecule(name='C87CA87CB83CD27CD113CD213CE7CE18CE28CE32CG46CG17CG214CH22CZ10CZ22CZ32H77H22H32HA83HA24HA34HB14HB15HB269HB369HD110HD115HD125HD135HD228HD215HD225HD233HD320HE4HE111HE215HE21HE22HE39HG11HG17HG115HG127HG137HG228HG2114HG2214HG2314HG328HH5HH114HH124HH22HH214HH224HZHZ16HZ28HZ38N87ND12ND22NE4NE12NE23NH14NH24NZ6O87OD15OD23OE17OE26OG8OG17OH5OXT2SDSG10', hash='a69a17d')"
      ]
     },
     "execution_count": 18,
     "metadata": {},
     "output_type": "execute_result"
    }
   ],
   "source": [
    "# Create input data dict\n",
    "inp = {\n",
    "    \"pdbid\": \"1HAA\",\n",
    "    \"keep_hetero\": \"none\",\n",
    "    \"add_atoms\": \"all\"\n",
    "}\n",
    "\n",
    "# Run compute\n",
    "outp = mmic_pdb.components.PdbFixerComponent.compute(inp)\n",
    "pro_comp = outp.molecule\n",
    "\n",
    "pro_comp"
   ]
  }
 ],
 "metadata": {
  "kernelspec": {
   "display_name": "Python 3",
   "language": "python",
   "name": "python3"
  },
  "language_info": {
   "codemirror_mode": {
    "name": "ipython",
    "version": 3
   },
   "file_extension": ".py",
   "mimetype": "text/x-python",
   "name": "python",
   "nbconvert_exporter": "python",
   "pygments_lexer": "ipython3",
   "version": "3.9.2"
  }
 },
 "nbformat": 4,
 "nbformat_minor": 5
}
