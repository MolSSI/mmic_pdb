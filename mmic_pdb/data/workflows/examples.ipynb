{
 "cells": [
  {
   "cell_type": "markdown",
   "id": "4faf3fc8",
   "metadata": {},
   "source": [
    "# Example1: Fetching PDB from RCSB"
   ]
  },
  {
   "cell_type": "markdown",
   "id": "6d7d5a46",
   "metadata": {},
   "source": [
    "Compute takes ~ 1 min on binder, can take much longer for big systems.\n",
    "For faster execution, run this notebook locally"
   ]
  },
  {
   "cell_type": "code",
   "execution_count": 10,
   "id": "20ad2343",
   "metadata": {},
   "outputs": [
    {
     "data": {
      "text/plain": [
       "Molecule(name='C82H136N30O23S3Zn', hash='849a1d5')"
      ]
     },
     "execution_count": 10,
     "metadata": {},
     "output_type": "execute_result"
    }
   ],
   "source": [
    "import mmic_pdb\n",
    "\n",
    "# Create input data dict\n",
    "inp = {\n",
    "    \"pdbid\": \"2ZNF\",\n",
    "}\n",
    "\n",
    "# Run compute\n",
    "outp = mmic_pdb.components.PdbFixerComponent.compute(inp)\n",
    "outp.molecule"
   ]
  },
  {
   "cell_type": "markdown",
   "id": "63fa44e7",
   "metadata": {},
   "source": [
    "# Example2: Removing heterogens"
   ]
  },
  {
   "cell_type": "code",
   "execution_count": 11,
   "id": "01146dd0",
   "metadata": {},
   "outputs": [
    {
     "data": {
      "text/plain": [
       "Molecule(name='C82H136N30O23S3', hash='a355eac')"
      ]
     },
     "execution_count": 11,
     "metadata": {},
     "output_type": "execute_result"
    }
   ],
   "source": [
    "# Create input data dict\n",
    "inp = {\n",
    "    \"pdbid\": \"2ZNF\",\n",
    "    \"keep_hetero\": \"none\"\n",
    "}\n",
    "\n",
    "# Run compute\n",
    "outp = mmic_pdb.components.PdbFixerComponent.compute(inp)\n",
    "outp.molecule\n"
   ]
  },
  {
   "cell_type": "markdown",
   "id": "2fe8e56c",
   "metadata": {},
   "source": [
    "# Example3: Adding missing atoms & removing heterogens\n",
    "\n",
    "Compute takes many mins on binder. It is best to run this example locally."
   ]
  },
  {
   "cell_type": "code",
   "execution_count": 12,
   "id": "3b158e5d",
   "metadata": {},
   "outputs": [
    {
     "data": {
      "text/plain": [
       "Molecule(name='C1891H2807N469O552', hash='76ccb59')"
      ]
     },
     "execution_count": 12,
     "metadata": {},
     "output_type": "execute_result"
    }
   ],
   "source": [
    "# Create input data dict\n",
    "inp = {\n",
    "    \"pdbid\": \"4EZI\",\n",
    "    \"keep_hetero\": \"none\",\n",
    "    \"add_atoms\": \"all\"\n",
    "}\n",
    "\n",
    "# Run compute\n",
    "outp = mmic_pdb.components.PdbFixerComponent.compute(inp)\n",
    "outp.molecule"
   ]
  }
 ],
 "metadata": {
  "kernelspec": {
   "display_name": "Python 3",
   "language": "python",
   "name": "python3"
  },
  "language_info": {
   "codemirror_mode": {
    "name": "ipython",
    "version": 3
   },
   "file_extension": ".py",
   "mimetype": "text/x-python",
   "name": "python",
   "nbconvert_exporter": "python",
   "pygments_lexer": "ipython3",
   "version": "3.9.2"
  }
 },
 "nbformat": 4,
 "nbformat_minor": 5
}
